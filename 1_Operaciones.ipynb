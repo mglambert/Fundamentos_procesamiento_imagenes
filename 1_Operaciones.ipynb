{
  "nbformat": 4,
  "nbformat_minor": 0,
  "metadata": {
    "colab": {
      "name": "1-Operaciones.ipynb",
      "provenance": [],
      "collapsed_sections": [],
      "toc_visible": true,
      "authorship_tag": "ABX9TyMlozfge09kDGcwryXfdIev",
      "include_colab_link": true
    },
    "kernelspec": {
      "name": "python3",
      "display_name": "Python 3"
    },
    "language_info": {
      "name": "python"
    }
  },
  "cells": [
    {
      "cell_type": "markdown",
      "metadata": {
        "id": "view-in-github",
        "colab_type": "text"
      },
      "source": [
        "<a href=\"https://colab.research.google.com/github/mglambert/Fundamentos_procesamiento_imagenes/blob/main/1_Operaciones.ipynb\" target=\"_parent\"><img src=\"https://colab.research.google.com/assets/colab-badge.svg\" alt=\"Open In Colab\"/></a>"
      ]
    },
    {
      "cell_type": "markdown",
      "metadata": {
        "id": "valr0AGpskGc"
      },
      "source": [
        "# Operaciones con imagenes\n"
      ]
    },
    {
      "cell_type": "markdown",
      "metadata": {
        "id": "Qtlz7B9KtYq9"
      },
      "source": [
        "### Librerias necesarias\n"
      ]
    },
    {
      "cell_type": "code",
      "metadata": {
        "id": "Yp6zkya7ss_2"
      },
      "source": [
        "import numpy as np\n",
        "import matplotlib.pyplot as plt\n",
        "from skimage.transform import resize\n",
        "from skimage.morphology import remove_small_holes, erosion, square\n",
        "import warnings\n",
        "import cv2\n",
        "warnings.filterwarnings(\"ignore\")"
      ],
      "execution_count": null,
      "outputs": []
    },
    {
      "cell_type": "markdown",
      "metadata": {
        "id": "nhG4P_XmtaPf"
      },
      "source": [
        "### Funcion util"
      ]
    },
    {
      "cell_type": "code",
      "metadata": {
        "id": "b--ERV0ZtQhP"
      },
      "source": [
        "def imshow(im, titulo='', cmap=None, rango=(None, None)):\n",
        "    plt.figure()\n",
        "    plt.imshow(im, vmin=rango[0], vmax=rango[1], cmap=cmap)\n",
        "    plt.title(r'{}'.format(titulo), fontdict={'fontsize': 24})\n",
        "    plt.axis('off')\n",
        "    plt.show()"
      ],
      "execution_count": null,
      "outputs": []
    },
    {
      "cell_type": "markdown",
      "metadata": {
        "id": "konXBm-PteWh"
      },
      "source": [
        "## 1º Operaciones aritmeticas\n",
        "\n",
        "### Preambulo\n",
        "\n",
        "Primero es necesario descargar la imagenes con las que trabajaremos. "
      ]
    },
    {
      "cell_type": "code",
      "metadata": {
        "id": "lGwNsu4jxZfR"
      },
      "source": [
        "!wget --no-check-certificate 'https://docs.google.com/uc?export=download&id=1jC3dYUO2KMqF66HTIi07qJkECtAeGKTd' -O im1.jpg\n",
        "!wget --no-check-certificate 'https://docs.google.com/uc?export=download&id=1j7VIG4dJngRPRacbtS9YLiykMqTiw6bQ' -O im2.jpg"
      ],
      "execution_count": null,
      "outputs": []
    },
    {
      "cell_type": "markdown",
      "metadata": {
        "id": "V1dpuGaFCfZ5"
      },
      "source": [
        "Visualizamos las imagenes y sus tamaños"
      ]
    },
    {
      "cell_type": "code",
      "metadata": {
        "id": "liE-iBwRtiad"
      },
      "source": [
        "im1 = plt.imread('im1.jpg')\n",
        "imshow(im1, 'Imagen 1')\n",
        "\n",
        "im2 = plt.imread('im2.jpg')\n",
        "imshow(im2, 'Imagen 2')\n",
        "\n",
        "# tamanno de las imagenes\n",
        "tamano1 = np.array(im1.shape)\n",
        "tamano2 = np.array(im2.shape)\n",
        "print('Tamano imagen 1: [{},{},{}]'.format(*tamano1))\n",
        "print('Tamano imagen 2: [{},{},{}]'.format(*tamano2))"
      ],
      "execution_count": null,
      "outputs": []
    },
    {
      "cell_type": "markdown",
      "metadata": {
        "id": "GT1KpAY4CqKk"
      },
      "source": [
        "Para facilitar los ejemplos ajustamos los tamaños de las imagenes haciendo recortes."
      ]
    },
    {
      "cell_type": "code",
      "metadata": {
        "id": "OLUIKjhmBAXk"
      },
      "source": [
        "tamano2 = np.float64(tamano2)\n",
        "tamano2[0:2] = np.fix(tamano1[0] * tamano2[0:2] / tamano2[0])\n",
        "im2 = (255 * resize(im2, tamano2)).astype(np.uint8)\n",
        "dif = tamano1[1] - tamano2[1]\n",
        "im1 = im1[:, int(np.ceil(dif / 2.0)):-int(np.floor(dif / 2.0)), :].astype(np.uint8)\n",
        "print('Nuevo tamano imagen 1: [{},{},{}]'.format(*im1.shape))\n",
        "print('Nuevo tamano imagen 2: [{},{},{}]'.format(*im2.shape))\n",
        "\n",
        "imshow(im1, 'Imagen 1')\n",
        "imshow(im2, 'Imagen 2')"
      ],
      "execution_count": null,
      "outputs": []
    },
    {
      "cell_type": "markdown",
      "metadata": {
        "id": "tJQYbJ4WDhob"
      },
      "source": [
        "Como se observo en los tamaños de las imagenes, el tamaño esta dado por [alto, ancho, canales]. Sabemos que las imagenes jpg codifican 3 los canales R, G y B. El formato de posicion de los canales depende de la libreria utilizada para abrir las imagenes, por ejemplo matplotlib utiliza RGB mientras que OpenCV utiliza GBR. "
      ]
    },
    {
      "cell_type": "code",
      "metadata": {
        "id": "wN9dQzCgCAvx"
      },
      "source": [
        "im_aux = plt.imread('im2.jpg')\n",
        "print('matplotlib')\n",
        "imshow(np.hstack((im_aux[:, :, 0], im_aux[:, :, 1], im_aux[:, :, 2])), 'R $\\qquad \\qquad$ G $\\qquad \\qquad$ B', 'gray')\n",
        "\n",
        "\n",
        "im_aux = cv2.imread('im2.jpg')\n",
        "print('OpenCV')\n",
        "imshow(np.hstack((im_aux[:, :, 0], im_aux[:, :, 1], im_aux[:, :, 2])), 'G $\\qquad \\qquad$ B $\\qquad \\qquad$ R', 'gray')"
      ],
      "execution_count": null,
      "outputs": []
    },
    {
      "cell_type": "markdown",
      "metadata": {
        "id": "PIdMFd5dElK5"
      },
      "source": [
        "Para los ejemplos utilizaremos una mascara, de los canales observados el R es el con mejor contraste por lo que lo utilizaremos para este proposito. "
      ]
    },
    {
      "cell_type": "code",
      "metadata": {
        "id": "9joAjEZ7EbDz"
      },
      "source": [
        "mask = im2[:, :, 0] > 5\n",
        "imshow(mask, 'Mascara Bruto', 'gray')\n",
        "mask = remove_small_holes(mask, 50)\n",
        "mask = erosion(mask, square(2))\n",
        "imshow(mask, 'Mascara', 'gray')"
      ],
      "execution_count": null,
      "outputs": []
    },
    {
      "cell_type": "markdown",
      "metadata": {
        "id": "3sZWEN5GFD2P"
      },
      "source": [
        "### Multiplicacion\n",
        "\n",
        "Las imagenes estan manejadas de forma vectorial a traves del objeto ndarray de numpy. Estos objetos utilizan las operaciones basicas, suma, multiplicacion y division de forma punto a punto. Ademas poseen ventajas operatorias cuando existe diferencias en las dimensionalidades, eso se conome como Broadcasting (pueden revisar las reglas [aqui](https://numpy.org/devdocs/user/theory.broadcasting.html)).\n",
        "\n",
        "En el caso de la multiplicacion, esta se realiza punto a punto. Si quieramos multiplicar matrices con diferentes tamaños, como en el caso de una imagen y la mascara, es necesario agregar un eje adicional. Así los tamaños en la operacion son:\n",
        "\n",
        "$$ [n, m, 3] * [n, m, 1] = [n, m, 3]$$\n",
        "\n",
        "En este caso la imagen 2 se multiplica a cada canal de la imagen 1, esta operacion es conmutativa. "
      ]
    },
    {
      "cell_type": "code",
      "metadata": {
        "id": "EzK2Dp7_ExS1"
      },
      "source": [
        "imshow(mask[:,:,np.newaxis]*im2, 'Im2 $\\cdot$ mask')\n",
        "imshow(mask[:,:,np.newaxis]*im1, 'Im1 $\\cdot$ mask')"
      ],
      "execution_count": null,
      "outputs": []
    },
    {
      "cell_type": "markdown",
      "metadata": {
        "id": "0rOJdkjsOt8Y"
      },
      "source": [
        "### Suma\n",
        "\n",
        "La suma tambien se realiza punto a punto. En el caso de un array y una constante, la constante se suma a cada elemento. "
      ]
    },
    {
      "cell_type": "code",
      "metadata": {
        "id": "RrMqRPsRFOT4"
      },
      "source": [
        "im1_aux = (1-mask[:,:,np.newaxis]) * im1\n",
        "im2_aux = mask[:,:,np.newaxis] * im2\n",
        "\n",
        "im_a = im1_aux + im2_aux\n",
        "imshow(im_a, 'Im2 $\\cdot$ mask - (1-mask) $\\cdot$ Im1')"
      ],
      "execution_count": null,
      "outputs": []
    },
    {
      "cell_type": "markdown",
      "metadata": {
        "id": "Pmeq1iQEPq2B"
      },
      "source": [
        "### Division\n",
        "\n",
        "Es equivalente a la multiplicacion, salvo que hay que tener cuidado con los elementos nulos, para lo cual agregamos un epsilon. "
      ]
    },
    {
      "cell_type": "code",
      "metadata": {
        "id": "EiWr-Tq4PBWQ"
      },
      "source": [
        "im_aux = np.uint8(255 * (im1/(im2_aux + np.finfo('float32').eps)))\n",
        "imshow(im_aux)"
      ],
      "execution_count": null,
      "outputs": []
    },
    {
      "cell_type": "markdown",
      "metadata": {
        "id": "Nk60qoxDQCAc"
      },
      "source": [
        "### Ejemplo de aplicacion de operaciones aritmeticas - Dixon 2p\n",
        "\n",
        "Las operaciones aritmeticas parecen triviales sin embargo, tienen aplicaciones bastante utilies. En este ejemplo veremos un calculo basico de separacion de agua y grasa en una resonancia de higado. \n",
        "\n",
        "En esta adquisicion se obtienen dos imagenes, una donde la señal de agua y de la grasa estan en fase y otra en la cual estan en contrafase.\n"
      ]
    },
    {
      "cell_type": "code",
      "metadata": {
        "id": "Im5MDeiNP3i5"
      },
      "source": [
        "!wget --load-cookies /tmp/cookies.txt \"https://docs.google.com/uc?export=download&confirm=$(wget --quiet --save-cookies /tmp/cookies.txt --keep-session-cookies --no-check-certificate 'https://docs.google.com/uc?export=download&id=1iwSxRi1rCFirt5_V4iavMqCu1FlINO1O' -O- | sed -rn 's/.*confirm=([0-9A-Za-z_]+).*/\\1\\n/p')&id=1iwSxRi1rCFirt5_V4iavMqCu1FlINO1O\" -O Data_dixon.mat && rm -rf /tmp/cookies.txt\n",
        "\n",
        "\n",
        "from scipy import io\n",
        "data = io.loadmat('Data_dixon.mat')\n",
        "dixon2p = data['dixon2p']\n",
        "mask2 = data['mask2']\n",
        "\n",
        "imshow(np.abs(dixon2p[:,:,0]), 'Echo 1', 'gray');\n",
        "imshow(np.abs(dixon2p[:,:,1]), 'Echo 2', 'gray');"
      ],
      "execution_count": null,
      "outputs": []
    },
    {
      "cell_type": "markdown",
      "metadata": {
        "id": "LVb2_b76Wleu"
      },
      "source": [
        "Utilizando la operacion de suma podemos separar las contribuciones de agua y grasa. "
      ]
    },
    {
      "cell_type": "code",
      "metadata": {
        "id": "KYRcLWsYQ2vz"
      },
      "source": [
        "w = 0.5*(dixon2p[:,:,0]+dixon2p[:,:,1]);\n",
        "imshow(np.abs(w), 'Imagen de agua', 'gray');\n",
        "\n",
        "f = 0.5*(dixon2p[:,:,0]-dixon2p[:,:,1]);\n",
        "imshow(np.abs(f), 'Imagen de grasa', 'gray');"
      ],
      "execution_count": null,
      "outputs": []
    },
    {
      "cell_type": "markdown",
      "metadata": {
        "id": "YbgTWcgsW3QD"
      },
      "source": [
        "Finalmente utilizando division podemos calcular la fraccion de grasa que compone el higado. \n"
      ]
    },
    {
      "cell_type": "code",
      "metadata": {
        "id": "GvO0nwgMRFKU"
      },
      "source": [
        "fg = (np.abs(f)/(np.abs(w) + np.abs(f) + np.finfo('float64').eps));\n",
        "imshow(fg, 'Fraccion de grasa', 'gray');\n",
        "\n",
        "fg = mask2*fg;\n",
        "fraccion_grasa = np.sum(fg)/np.sum(mask2);\n",
        "imshow(fg, 'Fraccion de grasa: {:6.5f}'.format(fraccion_grasa), 'gray');\n"
      ],
      "execution_count": null,
      "outputs": []
    },
    {
      "cell_type": "markdown",
      "metadata": {
        "id": "GfecPdMhXGOI"
      },
      "source": [
        "## 2º Operaciones geometricas\n",
        "\n",
        "En esta seccion veremos ejemplos simples de las operaciones descritas en las diapositivas del curso. "
      ]
    },
    {
      "cell_type": "code",
      "metadata": {
        "id": "m0XP66K2W80n"
      },
      "source": [
        "!wget --no-check-certificate 'https://docs.google.com/uc?export=download&id=1jBYhrV_Ntm9q8YdryY2uIGrrXFplsEOj' -O cuadro.jpg\n",
        "\n",
        "im = plt.imread('cuadro.jpg');\n",
        "imshow(im, 'Imagen Original');"
      ],
      "execution_count": null,
      "outputs": []
    },
    {
      "cell_type": "markdown",
      "metadata": {
        "id": "nPmhTFhMXto6"
      },
      "source": [
        "### Desplazamiento"
      ]
    },
    {
      "cell_type": "code",
      "metadata": {
        "id": "uCYqsMK9XnY_"
      },
      "source": [
        "T = np.float32([[1, 0, 100],\n",
        "              [0, 1, 200],\n",
        "              [0, 0, 1]])\n",
        "[row, col, _] = im.shape\n",
        "im2 = np.zeros(im.shape, dtype=np.uint8)\n",
        "for i in range(3):\n",
        "    im2[:,:,i] = np.uint8(cv2.warpPerspective(im[:,:,i], T, (col, row)))\n",
        "imshow(im2, 'Imagen desplazada')"
      ],
      "execution_count": null,
      "outputs": []
    },
    {
      "cell_type": "markdown",
      "metadata": {
        "id": "D-99IMXbXyTK"
      },
      "source": [
        "### Escalamiento"
      ]
    },
    {
      "cell_type": "code",
      "metadata": {
        "id": "mQS_Oeb1XxGf"
      },
      "source": [
        "T = np.float32([[0.5, 0, 0],\n",
        "               [0, 0.5, 0],\n",
        "               [0, 0, 1]])\n",
        "[row, col, _] = im.shape\n",
        "im2 = np.zeros(im.shape, dtype=np.uint8)\n",
        "for i in range(3):\n",
        "    im2[:,:,i] = np.uint8(cv2.warpPerspective(im[:,:,i], T, (col, row)))\n",
        "imshow(im2, 'Imagen Escala 2')\n",
        "\n",
        "T = np.float32([[2, 0, 0],\n",
        "               [0, 2, 0],\n",
        "               [0, 0, 1]])\n",
        "[row, col, _] = im.shape\n",
        "im2 = np.zeros(im.shape, dtype=np.uint8)\n",
        "for i in range(3):\n",
        "    im2[:,:,i] = np.uint8(cv2.warpPerspective(im[:,:,i], T, (col, row)))\n",
        "imshow(im2, 'Imagen Escala 2')"
      ],
      "execution_count": null,
      "outputs": []
    },
    {
      "cell_type": "markdown",
      "metadata": {
        "id": "bjjRhP6TX6WR"
      },
      "source": [
        "### Rotacion"
      ]
    },
    {
      "cell_type": "code",
      "metadata": {
        "id": "igbZ8CmHX2te"
      },
      "source": [
        "angulo = 10\n",
        "a = np.deg2rad(angulo)\n",
        "T = np.float32([[np.cos(a), np.sin(a), 0],\n",
        "               [-np.sin(a), np.cos(a), 0],\n",
        "               [0, 0, 1]])\n",
        "[row, col, _] = im.shape\n",
        "im2 = np.zeros(im.shape, dtype=np.uint8)\n",
        "for i in range(3):\n",
        "    im2[:,:,i] = np.uint8(cv2.warpPerspective(im[:,:,i], T, (col, row)))\n",
        "imshow(im2, 'Imagen Rotada')"
      ],
      "execution_count": null,
      "outputs": []
    },
    {
      "cell_type": "markdown",
      "metadata": {
        "id": "bsqPwjl3YANR"
      },
      "source": [
        "### Shear vertical"
      ]
    },
    {
      "cell_type": "code",
      "metadata": {
        "id": "jaibGzwaX8d-"
      },
      "source": [
        "T = np.float32([[1, 0.1, 0],\n",
        "               [0, 1, 0],\n",
        "               [0, 0, 1]])\n",
        "[row, col, _] = im.shape\n",
        "im2 = np.zeros(im.shape, dtype=np.uint8)\n",
        "for i in range(3):\n",
        "    im2[:,:,i] = np.uint8(cv2.warpPerspective(im[:,:,i], T, (col, row)))\n",
        "imshow(im2, 'Imagen shear vertical')"
      ],
      "execution_count": null,
      "outputs": []
    },
    {
      "cell_type": "markdown",
      "metadata": {
        "id": "BuAgmCG6YDQp"
      },
      "source": [
        "### Shear horizontal"
      ]
    },
    {
      "cell_type": "code",
      "metadata": {
        "id": "3J06MeFNYB_I"
      },
      "source": [
        "T = np.float32([[1, 0, 0],\n",
        "               [0.1, 1, 0],\n",
        "               [0, 0, 1]])\n",
        "[row, col, _] = im.shape\n",
        "im2 = np.zeros(im.shape, dtype=np.uint8)\n",
        "for i in range(3):\n",
        "    im2[:,:,i] = np.uint8(cv2.warpPerspective(im[:,:,i], T, (col, row)))\n",
        "imshow(im2, 'Imagen shear horizontal')"
      ],
      "execution_count": null,
      "outputs": []
    }
  ]
}