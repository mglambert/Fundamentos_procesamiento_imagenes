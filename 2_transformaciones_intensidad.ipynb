{
  "nbformat": 4,
  "nbformat_minor": 0,
  "metadata": {
    "colab": {
      "name": "2-transformaciones-intensidad.ipynb",
      "provenance": [],
      "toc_visible": true,
      "authorship_tag": "ABX9TyPYdqlLBAcbIKCc2j/D60lO",
      "include_colab_link": true
    },
    "kernelspec": {
      "name": "python3",
      "display_name": "Python 3"
    },
    "language_info": {
      "name": "python"
    }
  },
  "cells": [
    {
      "cell_type": "markdown",
      "metadata": {
        "id": "view-in-github",
        "colab_type": "text"
      },
      "source": [
        "<a href=\"https://colab.research.google.com/github/mglambert/Fundamentos_procesamiento_imagenes/blob/main/2_transformaciones_intensidad.ipynb\" target=\"_parent\"><img src=\"https://colab.research.google.com/assets/colab-badge.svg\" alt=\"Open In Colab\"/></a>"
      ]
    },
    {
      "cell_type": "markdown",
      "metadata": {
        "id": "FKzAYsEoOXhX"
      },
      "source": [
        "# Transformaciones de intensidad\n",
        "\n",
        "### Librerias necesarias para este notebook"
      ]
    },
    {
      "cell_type": "code",
      "metadata": {
        "id": "rY7-tk-qPHhb"
      },
      "source": [
        "import numpy as np\n",
        "import matplotlib.pyplot as plt\n",
        "from skimage.transform import resize\n",
        "from skimage.morphology import remove_small_holes, erosion, square\n",
        "import warnings\n",
        "import cv2\n",
        "warnings.filterwarnings(\"ignore\")"
      ],
      "execution_count": null,
      "outputs": []
    },
    {
      "cell_type": "markdown",
      "metadata": {
        "id": "gGw88iAjEoh9"
      },
      "source": [
        "### Funcion para visualizar "
      ]
    },
    {
      "cell_type": "code",
      "metadata": {
        "id": "UDu6gv2hPJWC"
      },
      "source": [
        "def imshow(im, titulo='', cmap=None, rango=(None, None)):\n",
        "    plt.figure()\n",
        "    plt.imshow(im, vmin=rango[0], vmax=rango[1], cmap=cmap)\n",
        "    plt.title(r'{}'.format(titulo), fontdict={'fontsize': 24})\n",
        "    plt.axis('off')\n",
        "    plt.show()"
      ],
      "execution_count": null,
      "outputs": []
    },
    {
      "cell_type": "markdown",
      "metadata": {
        "id": "TXi1jzFlEvIX"
      },
      "source": [
        "### Descargar imagen a utilizar"
      ]
    },
    {
      "cell_type": "code",
      "metadata": {
        "id": "d9cik5-EOXt3"
      },
      "source": [
        "!wget --no-check-certificate 'https://docs.google.com/uc?export=download&id=1jC3dYUO2KMqF66HTIi07qJkECtAeGKTd' -O im1.jpg\n",
        "\n",
        "im = plt.imread('im1.jpg')\n",
        "imshow(im, 'Original');"
      ],
      "execution_count": null,
      "outputs": []
    },
    {
      "cell_type": "markdown",
      "metadata": {
        "id": "iHLU3ZFnPZ8V"
      },
      "source": [
        "## Negativo\n",
        "\n",
        "Las imagenes estan codificadas en un rango de bits, normalmente 8 bits. Esto genera un rango de color entre 0 y 255. Dado un valor $x$ su negativo se define como $255-x$."
      ]
    },
    {
      "cell_type": "code",
      "metadata": {
        "id": "CagbQ9wFPOEy"
      },
      "source": [
        "im2 = 255 - im\n",
        "imshow(im2, 'Negativo')"
      ],
      "execution_count": null,
      "outputs": []
    },
    {
      "cell_type": "markdown",
      "metadata": {
        "id": "cRi3SFUnPdWJ"
      },
      "source": [
        "## Log\n",
        "\n",
        "La formula general de este tipo de transformacion es:\n",
        "\n",
        "$$ s = c \\cdot log(1+r) $$\n",
        "\n",
        "donde $c$ es una constante y se asume $r\\geq0$.\n",
        "\n",
        "Este tipo de transformacion se utiliza para expandir el rango de los valores bajos (oscuros) y comprimir los valores altos (claros o intensos).\n",
        "\n"
      ]
    },
    {
      "cell_type": "code",
      "metadata": {
        "id": "6tq3DaJBPcE7"
      },
      "source": [
        "im2 = 45.9859 * np.log(1 + np.float64(im))\n",
        "im2 = np.uint8(im2)\n",
        "imshow(im2, 'Log')"
      ],
      "execution_count": null,
      "outputs": []
    },
    {
      "cell_type": "markdown",
      "metadata": {
        "id": "ycCK8yRePke7"
      },
      "source": [
        "## AntiLog\n",
        "\n",
        "Esta transformacion en la inversa de la anterior, definida como:\n",
        "\n",
        "$$ s = e^{r/c}-1 $$\n",
        "\n",
        "donde $c$ es una constante y se asume $r\\geq0$.\n",
        "\n",
        "Este tipo de transformacion se utiliza para expandir el rango de los valores altos (claros o intensos) y comprimir los valores bajos (oscuros).\n"
      ]
    },
    {
      "cell_type": "code",
      "metadata": {
        "id": "3pVj8jx4Pg2C"
      },
      "source": [
        "im2 = np.exp(np.float64(im)/45.9859)-1\n",
        "im2 = np.uint8(im2)\n",
        "imshow(im2, 'AntiLog')"
      ],
      "execution_count": null,
      "outputs": []
    },
    {
      "cell_type": "markdown",
      "metadata": {
        "id": "5XiK6F2QPmgX"
      },
      "source": [
        "## Correccion gamma\n",
        "\n",
        "La transformacion gamma es una transformacion de potencia definida como:\n",
        "\n",
        "$$ s = c \\cdot r^\\gamma$$ \n",
        "\n",
        "donde $c$ y $\\gamma$ son constantes positivas. \n",
        "\n",
        "La correcion de gamma es la responsable de la “sensacion” de contraste de una imagen, y decimos sensación porque no es algo inherente a la imagen, si no a los dispositivos que la registran, a los dispositivos que la reproducen y a la luminosidad del entorno donde la estamos viendo. "
      ]
    },
    {
      "cell_type": "code",
      "metadata": {
        "id": "gzbt1xpWPlvc"
      },
      "source": [
        "im2 = 255*(np.float64(im)/255)**0.67\n",
        "im2 = np.uint8(im2)\n",
        "imshow(im, 'Correccion $\\gamma=0.67$')\n",
        "\n",
        "im2 = 255*(np.float64(im)/255)**1.5;\n",
        "im2 = np.uint8(im2);\n",
        "imshow(im2, 'Correccion $\\gamma=1.5$')"
      ],
      "execution_count": null,
      "outputs": []
    },
    {
      "cell_type": "markdown",
      "metadata": {
        "id": "hACTur-uPweU"
      },
      "source": [
        "### Correccion gamma ejemplo de clases\n"
      ]
    },
    {
      "cell_type": "code",
      "metadata": {
        "id": "SxPpDQapPrNU"
      },
      "source": [
        "!wget --no-check-certificate 'https://docs.google.com/uc?export=download&id=1EG3VjKzd11fJH-DMXvmkaT5d48TVutcq' -O intensity_ramp.tif\n",
        "\n",
        "\n",
        "im = plt.imread('intensity_ramp.tif');\n",
        "imshow(im, 'Rampa de intensidad', 'gray');\n",
        "\n",
        "im2 = 255*(np.float64(im)/255)**0.67;\n",
        "im2 = np.uint8(im2);\n",
        "imshow(im2, 'Correccion $\\gamma=0.67$', 'gray');\n",
        "\n",
        "im2 = 255*(np.float64(im)/255)**2.5;\n",
        "im2 = np.uint8(im2);\n",
        "imshow(im2, 'Correccion $\\gamma=2.5$', 'gray');"
      ],
      "execution_count": null,
      "outputs": []
    },
    {
      "cell_type": "markdown",
      "metadata": {
        "id": "EYhYV_sBSiSe"
      },
      "source": [
        "## Estiramiento de contraste\n",
        "\n",
        "El contraste de una imagen se puede modificar de manera simple al aplicar una fucncion punto a punto sobre los pixeles, mapeando asi sus valores a los deseados. "
      ]
    },
    {
      "cell_type": "code",
      "metadata": {
        "id": "aS862T3xQGhS"
      },
      "source": [
        "!wget --no-check-certificate 'https://docs.google.com/uc?export=download&id=1iSIRuA6YmLylfFDp7yeQjYTvRdIWkUX6' -O washed_out_pollen_image.tif\n",
        "\n",
        "im = plt.imread('washed_out_pollen_image.tif');\n",
        "imshow(im, 'Original - bajo contraste', 'gray', [0, 255])\n"
      ],
      "execution_count": null,
      "outputs": []
    },
    {
      "cell_type": "markdown",
      "metadata": {
        "id": "X7A0Is6BRT2o"
      },
      "source": [
        "En este ejemplo definiremos una funcion de transformacion que duplica en contraste en la zona media del rango de valores, mientras que comprime a la mitad el contraste en las zonas bajas y altas. "
      ]
    },
    {
      "cell_type": "code",
      "metadata": {
        "id": "KEwryTTjSy2h"
      },
      "source": [
        "def _curva(x):\n",
        "    if x < 64:\n",
        "        return (x * 0.5) * 255/319\n",
        "    elif x < 192:\n",
        "        return (2*x - 96) * 255/319\n",
        "    else:\n",
        "        return (0.5*x + 192) * 255/319\n",
        "curva = np.vectorize(_curva)\n",
        "\n",
        "x = np.arange(0, 255)\n",
        "plt.figure()\n",
        "plt.plot(x, curva(x))\n",
        "plt.title('Curva de contraste')\n",
        "plt.show()\n"
      ],
      "execution_count": null,
      "outputs": []
    },
    {
      "cell_type": "code",
      "metadata": {
        "id": "85u8ylnvS72J"
      },
      "source": [
        "im2 = np.uint8(curva(np.float64(im)));\n",
        "imshow(im2, 'Imagen con mayor contraste', 'gray', [0, 255]);\n"
      ],
      "execution_count": null,
      "outputs": []
    },
    {
      "cell_type": "markdown",
      "metadata": {
        "id": "YicDiXCLTFEG"
      },
      "source": [
        "## Planos de bit\n",
        "\n",
        "La informacion de una imagen se puede descomponer desde el rango de bits que componen sus pixeles. La intensidad de una imagen de 8 bits, cuyos pixeles toman valores entre 0 y 255, se puede comprender desde el punto de vista de la informacion binaria dispuesta en planos que la compone. Así los 8 bits se comprenden como 8 capas con diferentes valores de intensidad. "
      ]
    },
    {
      "cell_type": "code",
      "metadata": {
        "id": "UJrc5Bn6S-rc"
      },
      "source": [
        "!wget --no-check-certificate 'https://docs.google.com/uc?export=download&id=1jMrap9x1L8rCgl4xw4hGXzDznZ4-hT1V' -O dollar.tif\n",
        "\n",
        "im = plt.imread('dollar.tif');\n",
        "imshow(im, 'Original', 'gray')"
      ],
      "execution_count": null,
      "outputs": []
    },
    {
      "cell_type": "code",
      "metadata": {
        "id": "913X-IyFTV3J"
      },
      "source": [
        "planos_de_bits = np.unpackbits(im).reshape(im.shape + (8,))\n",
        "for i in range(8):\n",
        "    imshow(planos_de_bits[:,:,i], 'bit {}'.format(8-i), 'gray')"
      ],
      "execution_count": null,
      "outputs": []
    },
    {
      "cell_type": "code",
      "metadata": {
        "id": "t73F-izJTZ03"
      },
      "source": [
        "im2 = planos_de_bits[:,:,0]*2**7 + planos_de_bits[:,:,1]*2**6\n",
        "imshow(im2, 'Bits 8 y 7', 'gray', [0, 255])\n",
        "\n",
        "im2 = planos_de_bits[:,:,0]*2**7 + planos_de_bits[:,:,1]*2**6 + planos_de_bits[:,:,2]*2**5\n",
        "imshow(im2, 'Bits 8, 7 y 6', 'gray', [0, 255])\n",
        "\n",
        "im2 = planos_de_bits[:,:,0]*2**7 + planos_de_bits[:,:,1]*2**6 + planos_de_bits[:,:,2]*2**5 + planos_de_bits[:,:,3]*2**4\n",
        "imshow(im2, 'Bits 8, 7, 6 y 5', 'gray', [0, 255])"
      ],
      "execution_count": null,
      "outputs": []
    },
    {
      "cell_type": "markdown",
      "metadata": {
        "id": "cyhTq3dqTgo_"
      },
      "source": [
        "## Procesamiento de histograma\n",
        "\n",
        "El prosesamiento de histograma corresponde a transformaciones de intensidad que en vez de aplicarse a cada pixel de forma intependiente, se aplica a cada pixel dependiendo del resto mediante la distribucion acumulada de la informacion. "
      ]
    },
    {
      "cell_type": "code",
      "metadata": {
        "id": "VrnEpg2QTdub"
      },
      "source": [
        "im = plt.imread('washed_out_pollen_image.tif')\n",
        "imshow(im, 'Imagen Original', 'gray', [0, 255])\n",
        "plt.figure()\n",
        "plt.hist(im.ravel(), 256, [0,255])\n",
        "plt.title('Histograma Original')\n",
        "plt.show()"
      ],
      "execution_count": null,
      "outputs": []
    },
    {
      "cell_type": "markdown",
      "metadata": {
        "id": "dHctNp-PToV0"
      },
      "source": [
        "### Extension histograma\n",
        "\n",
        "La extension del histograma mapea el valor minimo a 0 y el maximo a 255, mientras que los valores intermedios se ajustan a esta distribucion del valores. \n"
      ]
    },
    {
      "cell_type": "code",
      "metadata": {
        "id": "v43xJBPPTln5"
      },
      "source": [
        "im = np.float64(im)\n",
        "im = im - np.min(im)\n",
        "im = 255.0 * im / np.max(im)\n",
        "im = np.uint8(im)\n",
        "imshow(im, 'Imagen 2', 'gray', [0, 255])\n",
        "plt.figure()\n",
        "plt.hist(im.ravel(), 256, [0,255])\n",
        "plt.title('Histograma extendido')\n",
        "plt.show()"
      ],
      "execution_count": null,
      "outputs": []
    },
    {
      "cell_type": "markdown",
      "metadata": {
        "id": "yF9I6YunTuSc"
      },
      "source": [
        "### Ecualizacion de histograma"
      ]
    },
    {
      "cell_type": "markdown",
      "metadata": {
        "id": "BgR8ZlXXUaEc"
      },
      "source": [
        "La ecualizacion de histograma cambia la forma de este, de forma que podemos mapear cualquier distribucion a nuestra imagen. En este ejemplo veremos como aplicar una distribucion uniforme de valores."
      ]
    },
    {
      "cell_type": "code",
      "metadata": {
        "id": "DcTA2DI5TrUM"
      },
      "source": [
        "im_aux = im.ravel()\n",
        "j = np.argsort(im_aux)\n",
        "r = np.round(np.linspace(0.0, 255.0, j.shape[0]))\n",
        "im_aux[j] = r\n",
        "im_aux = im_aux.reshape(im.shape)\n",
        "imshow(im_aux, 'Im2', 'gray', [0, 255])\n",
        "plt.figure()\n",
        "plt.hist(im.ravel(), 256, [0,255])\n",
        "plt.title('Histograma ecualizado')\n",
        "plt.show()"
      ],
      "execution_count": null,
      "outputs": []
    },
    {
      "cell_type": "markdown",
      "metadata": {
        "id": "E_klxxq5T55F"
      },
      "source": [
        "## Ejemplo \n",
        " \n",
        " En este ejemplo veremos como la combinacion de las tecnicas nos permite mejorar imagenes. Este ejemplo puede demorar mas en ejecutarse ya que el tamaño de la imagen es considerablemente mayor. "
      ]
    },
    {
      "cell_type": "code",
      "metadata": {
        "id": "6ra1DvMeTwoY"
      },
      "source": [
        "!wget --no-check-certificate 'https://docs.google.com/uc?export=download&id=1j0VcN-PTrk7TVoD1OewZqy_gASH2z3fL' -O IMG_20190724_170803.jpg\n",
        "\n",
        "im = plt.imread('IMG_20190724_170803.jpg')\n",
        "imshow(im, 'Original')"
      ],
      "execution_count": null,
      "outputs": []
    },
    {
      "cell_type": "code",
      "metadata": {
        "id": "jpCTv8ChUKjY"
      },
      "source": [
        "R = im[:,:,0]\n",
        "G = im[:,:,1]\n",
        "B = im[:,:,2]\n",
        "\n",
        "R_aux = R.ravel()\n",
        "j = np.argsort(R_aux)\n",
        "r = np.round(np.linspace(0.0, 255.0, j.shape[0]))\n",
        "R_aux[j] = r\n",
        "R_aux = R_aux.reshape(im.shape[0:2])\n",
        "\n",
        "G_aux = G.ravel()\n",
        "j = np.argsort(G_aux)\n",
        "r = np.round(np.linspace(0.0, 255.0, j.shape[0]))\n",
        "G_aux[j] = r\n",
        "G_aux = G_aux.reshape(im.shape[0:2])\n",
        "\n",
        "B_aux = B.ravel()\n",
        "j = np.argsort(B_aux)\n",
        "r = np.round(np.linspace(0.0, 255.0, j.shape[0]))\n",
        "B_aux[j] = r\n",
        "B_aux = B_aux.reshape(im.shape[0:2])\n",
        "\n",
        "im2 = im.copy()\n",
        "im2[:,:,0] = R_aux\n",
        "im2[:,:,1] = G_aux\n",
        "im2[:,:,2] = B_aux\n",
        "\n",
        "imshow(im2, 'Imagen ecualizada')"
      ],
      "execution_count": null,
      "outputs": []
    },
    {
      "cell_type": "code",
      "metadata": {
        "id": "63QyuakOUdb8"
      },
      "source": [
        "R = np.float64(im[:,:,0])\n",
        "G = np.float64(im[:,:,1])\n",
        "B = np.float64(im[:,:,2])\n",
        "\n",
        "R = 255 * ((R/255)**0.6)\n",
        "G = 255 * ((G/255)**0.5)\n",
        "B = 255 * ((B/255)**0.55)\n",
        "\n",
        "im2 = im.copy()\n",
        "im2[:,:,0] = np.uint8(R)\n",
        "im2[:,:,1] = np.uint8(G)\n",
        "im2[:,:,2] = np.uint8(B)\n",
        "\n",
        "imshow(im2, 'Imagen ajuste gamma')"
      ],
      "execution_count": null,
      "outputs": []
    }
  ]
}